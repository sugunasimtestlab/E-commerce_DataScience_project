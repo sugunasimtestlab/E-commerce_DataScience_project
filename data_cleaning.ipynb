{
 "cells": [
  {
   "cell_type": "markdown",
   "metadata": {},
   "source": [
    "# ---------- Data Cleaning  ---------"
   ]
  },
  {
   "cell_type": "code",
   "execution_count": 1,
   "metadata": {},
   "outputs": [],
   "source": [
    "import pandas as pd\n",
    "import numpy as np  \n",
    "from scipy.stats import chi2_contingency, f_oneway, spearmanr"
   ]
  },
  {
   "cell_type": "code",
   "execution_count": 2,
   "metadata": {},
   "outputs": [],
   "source": [
    "df = pd.read_csv(r\"C:\\Users\\Hello\\Downloads\\Data science notes\\DA & DS Projects\\CAPSTONE_PROJECT\\Capstone_project\\amazon_products.csv\")\n",
    "\n",
    "df = pdread_csv()"
   ]
  },
  {
   "cell_type": "code",
   "execution_count": 3,
   "metadata": {},
   "outputs": [
    {
     "data": {
      "text/html": [
       "<div>\n",
       "<style scoped>\n",
       "    .dataframe tbody tr th:only-of-type {\n",
       "        vertical-align: middle;\n",
       "    }\n",
       "\n",
       "    .dataframe tbody tr th {\n",
       "        vertical-align: top;\n",
       "    }\n",
       "\n",
       "    .dataframe thead th {\n",
       "        text-align: right;\n",
       "    }\n",
       "</style>\n",
       "<table border=\"1\" class=\"dataframe\">\n",
       "  <thead>\n",
       "    <tr style=\"text-align: right;\">\n",
       "      <th></th>\n",
       "      <th>Name</th>\n",
       "      <th>Price</th>\n",
       "      <th>Category</th>\n",
       "      <th>Rating</th>\n",
       "      <th>Reviews</th>\n",
       "    </tr>\n",
       "  </thead>\n",
       "  <tbody>\n",
       "    <tr>\n",
       "      <th>0</th>\n",
       "      <td>Puma Sports</td>\n",
       "      <td>7548</td>\n",
       "      <td>shoes</td>\n",
       "      <td>4.5</td>\n",
       "      <td>46012</td>\n",
       "    </tr>\n",
       "    <tr>\n",
       "      <th>1</th>\n",
       "      <td>Dell Inspiron</td>\n",
       "      <td>140139</td>\n",
       "      <td>laptops</td>\n",
       "      <td>4.8</td>\n",
       "      <td>23866</td>\n",
       "    </tr>\n",
       "    <tr>\n",
       "      <th>2</th>\n",
       "      <td>Fastrack Analog</td>\n",
       "      <td>4177</td>\n",
       "      <td>watches</td>\n",
       "      <td>3.4</td>\n",
       "      <td>17958</td>\n",
       "    </tr>\n",
       "    <tr>\n",
       "      <th>3</th>\n",
       "      <td>Lenovo ThinkPad</td>\n",
       "      <td>106911</td>\n",
       "      <td>laptops</td>\n",
       "      <td>4.2</td>\n",
       "      <td>47920</td>\n",
       "    </tr>\n",
       "    <tr>\n",
       "      <th>4</th>\n",
       "      <td>Apple iPad</td>\n",
       "      <td>57843</td>\n",
       "      <td>tablets</td>\n",
       "      <td>3.7</td>\n",
       "      <td>44463</td>\n",
       "    </tr>\n",
       "  </tbody>\n",
       "</table>\n",
       "</div>"
      ],
      "text/plain": [
       "              Name   Price Category  Rating  Reviews\n",
       "0      Puma Sports    7548    shoes     4.5    46012\n",
       "1    Dell Inspiron  140139  laptops     4.8    23866\n",
       "2  Fastrack Analog    4177  watches     3.4    17958\n",
       "3  Lenovo ThinkPad  106911  laptops     4.2    47920\n",
       "4       Apple iPad   57843  tablets     3.7    44463"
      ]
     },
     "execution_count": 3,
     "metadata": {},
     "output_type": "execute_result"
    }
   ],
   "source": [
    "df. head()"
   ]
  },
  {
   "cell_type": "code",
   "execution_count": 4,
   "metadata": {},
   "outputs": [
    {
     "data": {
      "text/html": [
       "<div>\n",
       "<style scoped>\n",
       "    .dataframe tbody tr th:only-of-type {\n",
       "        vertical-align: middle;\n",
       "    }\n",
       "\n",
       "    .dataframe tbody tr th {\n",
       "        vertical-align: top;\n",
       "    }\n",
       "\n",
       "    .dataframe thead th {\n",
       "        text-align: right;\n",
       "    }\n",
       "</style>\n",
       "<table border=\"1\" class=\"dataframe\">\n",
       "  <thead>\n",
       "    <tr style=\"text-align: right;\">\n",
       "      <th></th>\n",
       "      <th>Name</th>\n",
       "      <th>Price</th>\n",
       "      <th>Category</th>\n",
       "      <th>Rating</th>\n",
       "      <th>Reviews</th>\n",
       "    </tr>\n",
       "  </thead>\n",
       "  <tbody>\n",
       "    <tr>\n",
       "      <th>1495</th>\n",
       "      <td>Acer Aspire</td>\n",
       "      <td>82819</td>\n",
       "      <td>computers</td>\n",
       "      <td>4.0</td>\n",
       "      <td>49872</td>\n",
       "    </tr>\n",
       "    <tr>\n",
       "      <th>1496</th>\n",
       "      <td>Dell Desktop</td>\n",
       "      <td>58839</td>\n",
       "      <td>computers</td>\n",
       "      <td>4.3</td>\n",
       "      <td>29663</td>\n",
       "    </tr>\n",
       "    <tr>\n",
       "      <th>1497</th>\n",
       "      <td>Samsung Galaxy</td>\n",
       "      <td>34532</td>\n",
       "      <td>mobile phones</td>\n",
       "      <td>3.8</td>\n",
       "      <td>15534</td>\n",
       "    </tr>\n",
       "    <tr>\n",
       "      <th>1498</th>\n",
       "      <td>Amazon Fire</td>\n",
       "      <td>41721</td>\n",
       "      <td>tablets</td>\n",
       "      <td>4.5</td>\n",
       "      <td>2201</td>\n",
       "    </tr>\n",
       "    <tr>\n",
       "      <th>1499</th>\n",
       "      <td>Apple iPad</td>\n",
       "      <td>31573</td>\n",
       "      <td>tablets</td>\n",
       "      <td>4.0</td>\n",
       "      <td>38264</td>\n",
       "    </tr>\n",
       "  </tbody>\n",
       "</table>\n",
       "</div>"
      ],
      "text/plain": [
       "                Name  Price       Category  Rating  Reviews\n",
       "1495     Acer Aspire  82819      computers     4.0    49872\n",
       "1496    Dell Desktop  58839      computers     4.3    29663\n",
       "1497  Samsung Galaxy  34532  mobile phones     3.8    15534\n",
       "1498     Amazon Fire  41721        tablets     4.5     2201\n",
       "1499      Apple iPad  31573        tablets     4.0    38264"
      ]
     },
     "execution_count": 4,
     "metadata": {},
     "output_type": "execute_result"
    }
   ],
   "source": [
    "df.tail()"
   ]
  },
  {
   "cell_type": "code",
   "execution_count": 5,
   "metadata": {},
   "outputs": [
    {
     "data": {
      "text/plain": [
       "(1500, 5)"
      ]
     },
     "execution_count": 5,
     "metadata": {},
     "output_type": "execute_result"
    }
   ],
   "source": [
    "df.shape"
   ]
  },
  {
   "cell_type": "code",
   "execution_count": 6,
   "metadata": {},
   "outputs": [
    {
     "data": {
      "text/plain": [
       "Name        0\n",
       "Price       0\n",
       "Category    0\n",
       "Rating      0\n",
       "Reviews     0\n",
       "dtype: int64"
      ]
     },
     "execution_count": 6,
     "metadata": {},
     "output_type": "execute_result"
    }
   ],
   "source": [
    "df.isnull().sum()"
   ]
  },
  {
   "cell_type": "code",
   "execution_count": 7,
   "metadata": {},
   "outputs": [],
   "source": [
    "df.drop_duplicates(inplace=True)"
   ]
  },
  {
   "cell_type": "code",
   "execution_count": 8,
   "metadata": {},
   "outputs": [],
   "source": [
    "df.replace(\"Unknown\", np.nan, inplace=True)\n"
   ]
  },
  {
   "cell_type": "code",
   "execution_count": 9,
   "metadata": {},
   "outputs": [
    {
     "name": "stderr",
     "output_type": "stream",
     "text": [
      "C:\\Users\\Hello\\AppData\\Local\\Temp\\ipykernel_15664\\578092939.py:4: FutureWarning: A value is trying to be set on a copy of a DataFrame or Series through chained assignment using an inplace method.\n",
      "The behavior will change in pandas 3.0. This inplace method will never work because the intermediate object on which we are setting values always behaves as a copy.\n",
      "\n",
      "For example, when doing 'df[col].method(value, inplace=True)', try using 'df.method({col: value}, inplace=True)' or df[col] = df[col].method(value) instead, to perform the operation inplace on the original object.\n",
      "\n",
      "\n",
      "  df[\"Rating\"].fillna(df[\"Rating\"].mean(), inplace=True)\n",
      "C:\\Users\\Hello\\AppData\\Local\\Temp\\ipykernel_15664\\578092939.py:5: FutureWarning: A value is trying to be set on a copy of a DataFrame or Series through chained assignment using an inplace method.\n",
      "The behavior will change in pandas 3.0. This inplace method will never work because the intermediate object on which we are setting values always behaves as a copy.\n",
      "\n",
      "For example, when doing 'df[col].method(value, inplace=True)', try using 'df.method({col: value}, inplace=True)' or df[col] = df[col].method(value) instead, to perform the operation inplace on the original object.\n",
      "\n",
      "\n",
      "  df[\"Reviews\"].fillna(0, inplace=True)\n"
     ]
    }
   ],
   "source": [
    "df[\"Rating\"] = pd.to_numeric(df[\"Rating\"], errors=\"coerce\")\n",
    "df[\"Reviews\"] = pd.to_numeric(df[\"Reviews\"], errors=\"coerce\")\n",
    "\n",
    "df[\"Rating\"].fillna(df[\"Rating\"].mean(), inplace=True)    \n",
    "df[\"Reviews\"].fillna(0, inplace=True) "
   ]
  },
  {
   "cell_type": "code",
   "execution_count": 10,
   "metadata": {},
   "outputs": [
    {
     "data": {
      "text/plain": [
       "Category\n",
       "tablets          224\n",
       "mobile phones    206\n",
       "books            195\n",
       "computers        185\n",
       "shoes            182\n",
       "laptops          179\n",
       "watches          171\n",
       "headphones       158\n",
       "Name: count, dtype: int64"
      ]
     },
     "execution_count": 10,
     "metadata": {},
     "output_type": "execute_result"
    }
   ],
   "source": [
    "df.Category.value_counts()"
   ]
  },
  {
   "cell_type": "code",
   "execution_count": 11,
   "metadata": {},
   "outputs": [
    {
     "name": "stdout",
     "output_type": "stream",
     "text": [
      "File saved successfully as 'amazon_products.csv'\n"
     ]
    }
   ],
   "source": [
    "df.to_csv(\"amazon_products.csv\", index=False)\n",
    "\n",
    "print(\"File saved successfully as 'amazon_products.csv'\")"
   ]
  },
  {
   "cell_type": "code",
   "execution_count": 12,
   "metadata": {},
   "outputs": [
    {
     "data": {
      "text/plain": [
       "Name         object\n",
       "Price         int64\n",
       "Category     object\n",
       "Rating      float64\n",
       "Reviews       int64\n",
       "dtype: object"
      ]
     },
     "execution_count": 12,
     "metadata": {},
     "output_type": "execute_result"
    }
   ],
   "source": [
    "df.dtypes\n"
   ]
  },
  {
   "cell_type": "code",
   "execution_count": 13,
   "metadata": {},
   "outputs": [
    {
     "data": {
      "text/html": [
       "<div>\n",
       "<style scoped>\n",
       "    .dataframe tbody tr th:only-of-type {\n",
       "        vertical-align: middle;\n",
       "    }\n",
       "\n",
       "    .dataframe tbody tr th {\n",
       "        vertical-align: top;\n",
       "    }\n",
       "\n",
       "    .dataframe thead th {\n",
       "        text-align: right;\n",
       "    }\n",
       "</style>\n",
       "<table border=\"1\" class=\"dataframe\">\n",
       "  <thead>\n",
       "    <tr style=\"text-align: right;\">\n",
       "      <th></th>\n",
       "      <th>Price</th>\n",
       "      <th>Rating</th>\n",
       "      <th>Reviews</th>\n",
       "    </tr>\n",
       "  </thead>\n",
       "  <tbody>\n",
       "    <tr>\n",
       "      <th>count</th>\n",
       "      <td>1500.000000</td>\n",
       "      <td>1500.000000</td>\n",
       "      <td>1500.000000</td>\n",
       "    </tr>\n",
       "    <tr>\n",
       "      <th>mean</th>\n",
       "      <td>32342.537333</td>\n",
       "      <td>4.010133</td>\n",
       "      <td>24887.005333</td>\n",
       "    </tr>\n",
       "    <tr>\n",
       "      <th>std</th>\n",
       "      <td>35586.666863</td>\n",
       "      <td>0.578343</td>\n",
       "      <td>14350.931842</td>\n",
       "    </tr>\n",
       "    <tr>\n",
       "      <th>min</th>\n",
       "      <td>200.000000</td>\n",
       "      <td>3.000000</td>\n",
       "      <td>39.000000</td>\n",
       "    </tr>\n",
       "    <tr>\n",
       "      <th>25%</th>\n",
       "      <td>3393.500000</td>\n",
       "      <td>3.500000</td>\n",
       "      <td>13035.500000</td>\n",
       "    </tr>\n",
       "    <tr>\n",
       "      <th>50%</th>\n",
       "      <td>14778.500000</td>\n",
       "      <td>4.000000</td>\n",
       "      <td>24733.500000</td>\n",
       "    </tr>\n",
       "    <tr>\n",
       "      <th>75%</th>\n",
       "      <td>53139.750000</td>\n",
       "      <td>4.500000</td>\n",
       "      <td>37362.250000</td>\n",
       "    </tr>\n",
       "    <tr>\n",
       "      <th>max</th>\n",
       "      <td>149478.000000</td>\n",
       "      <td>5.000000</td>\n",
       "      <td>50000.000000</td>\n",
       "    </tr>\n",
       "  </tbody>\n",
       "</table>\n",
       "</div>"
      ],
      "text/plain": [
       "               Price       Rating       Reviews\n",
       "count    1500.000000  1500.000000   1500.000000\n",
       "mean    32342.537333     4.010133  24887.005333\n",
       "std     35586.666863     0.578343  14350.931842\n",
       "min       200.000000     3.000000     39.000000\n",
       "25%      3393.500000     3.500000  13035.500000\n",
       "50%     14778.500000     4.000000  24733.500000\n",
       "75%     53139.750000     4.500000  37362.250000\n",
       "max    149478.000000     5.000000  50000.000000"
      ]
     },
     "execution_count": 13,
     "metadata": {},
     "output_type": "execute_result"
    }
   ],
   "source": [
    "df.describe()\n"
   ]
  },
  {
   "cell_type": "code",
   "execution_count": 14,
   "metadata": {},
   "outputs": [
    {
     "data": {
      "text/html": [
       "<div>\n",
       "<style scoped>\n",
       "    .dataframe tbody tr th:only-of-type {\n",
       "        vertical-align: middle;\n",
       "    }\n",
       "\n",
       "    .dataframe tbody tr th {\n",
       "        vertical-align: top;\n",
       "    }\n",
       "\n",
       "    .dataframe thead th {\n",
       "        text-align: right;\n",
       "    }\n",
       "</style>\n",
       "<table border=\"1\" class=\"dataframe\">\n",
       "  <thead>\n",
       "    <tr style=\"text-align: right;\">\n",
       "      <th></th>\n",
       "      <th>Name</th>\n",
       "      <th>Price</th>\n",
       "      <th>Category</th>\n",
       "      <th>Rating</th>\n",
       "      <th>Reviews</th>\n",
       "    </tr>\n",
       "  </thead>\n",
       "  <tbody>\n",
       "    <tr>\n",
       "      <th>count</th>\n",
       "      <td>1500</td>\n",
       "      <td>1500.000000</td>\n",
       "      <td>1500</td>\n",
       "      <td>1500.000000</td>\n",
       "      <td>1500.000000</td>\n",
       "    </tr>\n",
       "    <tr>\n",
       "      <th>unique</th>\n",
       "      <td>32</td>\n",
       "      <td>NaN</td>\n",
       "      <td>8</td>\n",
       "      <td>NaN</td>\n",
       "      <td>NaN</td>\n",
       "    </tr>\n",
       "    <tr>\n",
       "      <th>top</th>\n",
       "      <td>OnePlus Nord</td>\n",
       "      <td>NaN</td>\n",
       "      <td>tablets</td>\n",
       "      <td>NaN</td>\n",
       "      <td>NaN</td>\n",
       "    </tr>\n",
       "    <tr>\n",
       "      <th>freq</th>\n",
       "      <td>65</td>\n",
       "      <td>NaN</td>\n",
       "      <td>224</td>\n",
       "      <td>NaN</td>\n",
       "      <td>NaN</td>\n",
       "    </tr>\n",
       "    <tr>\n",
       "      <th>mean</th>\n",
       "      <td>NaN</td>\n",
       "      <td>32342.537333</td>\n",
       "      <td>NaN</td>\n",
       "      <td>4.010133</td>\n",
       "      <td>24887.005333</td>\n",
       "    </tr>\n",
       "    <tr>\n",
       "      <th>std</th>\n",
       "      <td>NaN</td>\n",
       "      <td>35586.666863</td>\n",
       "      <td>NaN</td>\n",
       "      <td>0.578343</td>\n",
       "      <td>14350.931842</td>\n",
       "    </tr>\n",
       "    <tr>\n",
       "      <th>min</th>\n",
       "      <td>NaN</td>\n",
       "      <td>200.000000</td>\n",
       "      <td>NaN</td>\n",
       "      <td>3.000000</td>\n",
       "      <td>39.000000</td>\n",
       "    </tr>\n",
       "    <tr>\n",
       "      <th>25%</th>\n",
       "      <td>NaN</td>\n",
       "      <td>3393.500000</td>\n",
       "      <td>NaN</td>\n",
       "      <td>3.500000</td>\n",
       "      <td>13035.500000</td>\n",
       "    </tr>\n",
       "    <tr>\n",
       "      <th>50%</th>\n",
       "      <td>NaN</td>\n",
       "      <td>14778.500000</td>\n",
       "      <td>NaN</td>\n",
       "      <td>4.000000</td>\n",
       "      <td>24733.500000</td>\n",
       "    </tr>\n",
       "    <tr>\n",
       "      <th>75%</th>\n",
       "      <td>NaN</td>\n",
       "      <td>53139.750000</td>\n",
       "      <td>NaN</td>\n",
       "      <td>4.500000</td>\n",
       "      <td>37362.250000</td>\n",
       "    </tr>\n",
       "    <tr>\n",
       "      <th>max</th>\n",
       "      <td>NaN</td>\n",
       "      <td>149478.000000</td>\n",
       "      <td>NaN</td>\n",
       "      <td>5.000000</td>\n",
       "      <td>50000.000000</td>\n",
       "    </tr>\n",
       "  </tbody>\n",
       "</table>\n",
       "</div>"
      ],
      "text/plain": [
       "                Name          Price Category       Rating       Reviews\n",
       "count           1500    1500.000000     1500  1500.000000   1500.000000\n",
       "unique            32            NaN        8          NaN           NaN\n",
       "top     OnePlus Nord            NaN  tablets          NaN           NaN\n",
       "freq              65            NaN      224          NaN           NaN\n",
       "mean             NaN   32342.537333      NaN     4.010133  24887.005333\n",
       "std              NaN   35586.666863      NaN     0.578343  14350.931842\n",
       "min              NaN     200.000000      NaN     3.000000     39.000000\n",
       "25%              NaN    3393.500000      NaN     3.500000  13035.500000\n",
       "50%              NaN   14778.500000      NaN     4.000000  24733.500000\n",
       "75%              NaN   53139.750000      NaN     4.500000  37362.250000\n",
       "max              NaN  149478.000000      NaN     5.000000  50000.000000"
      ]
     },
     "execution_count": 14,
     "metadata": {},
     "output_type": "execute_result"
    }
   ],
   "source": [
    "df.describe(include ='all')"
   ]
  },
  {
   "cell_type": "code",
   "execution_count": 15,
   "metadata": {},
   "outputs": [],
   "source": [
    "import matplotlib.pyplot as plt\n",
    "import seaborn as sns"
   ]
  },
  {
   "cell_type": "code",
   "execution_count": 16,
   "metadata": {},
   "outputs": [
    {
     "data": {
      "image/png": "[encoded data removed]",
      "text/plain": [
       "<Figure size 1200x500 with 2 Axes>"
      ]
     },
     "metadata": {},
     "output_type": "display_data"
    }
   ],
   "source": [
    "# Set up the figure\n",
    "plt.figure(figsize=(12, 5))\n",
    "\n",
    "# Histogram for Ratings\n",
    "plt.subplot(1, 2, 1)\n",
    "sns.histplot(df[\"Rating\"].dropna(), bins=20, kde=True, color=\"blue\")\n",
    "plt.title(\"Distribution of Ratings\")\n",
    "plt.xlabel(\"Rating\")\n",
    "plt.ylabel(\"Frequency\")\n",
    "\n",
    "# Histogram for Prices\n",
    "plt.subplot(1, 2, 2)\n",
    "sns.histplot(df[\"Price\"].dropna(), bins=20, kde=True, color=\"green\")\n",
    "plt.title(\"Distribution of Prices\")\n",
    "plt.xlabel(\"Price (INR)\")\n",
    "plt.ylabel(\"Frequency\")\n",
    "\n",
    "plt.tight_layout()\n",
    "plt.show()"
   ]
  },
  {
   "cell_type": "markdown",
   "metadata": {},
   "source": [
    "# ---------- Outlier Detection  ---------"
   ]
  },
  {
   "cell_type": "code",
   "execution_count": 17,
   "metadata": {},
   "outputs": [
    {
     "data": {
      "image/png": "[encoded data removed]",
      "text/plain": [
       "<Figure size 1200x500 with 2 Axes>"
      ]
     },
     "metadata": {},
     "output_type": "display_data"
    }
   ],
   "source": [
    "plt.figure(figsize=(12, 5))\n",
    "\n",
    "# Boxplot for Price\n",
    "plt.subplot(1, 2, 1)\n",
    "sns.boxplot(y=df[\"Price\"])\n",
    "plt.title(\"Outliers in Price\")\n",
    "\n",
    "# Boxplot for Rating\n",
    "plt.subplot(1, 2, 2)\n",
    "sns.boxplot(y=df[\"Rating\"])\n",
    "plt.title(\"Outliers in Rating\")\n",
    "\n",
    "plt.show()"
   ]
  },
  {
   "cell_type": "markdown",
   "metadata": {},
   "source": [
    "# ---------- Correlation Analysis ---------"
   ]
  },
  {
   "cell_type": "code",
   "execution_count": 18,
   "metadata": {},
   "outputs": [
    {
     "name": "stdout",
     "output_type": "stream",
     "text": [
      "Spearman Correlation between Price and Rating: -0.017\n"
     ]
    }
   ],
   "source": [
    "corr, _ = spearmanr(df[\"Price\"], df[\"Rating\"])\n",
    "print(f\"Spearman Correlation between Price and Rating: {corr:.3f}\")"
   ]
  },
  {
   "cell_type": "markdown",
   "metadata": {},
   "source": [
    "# ----------  Statistical Analysis ---------"
   ]
  },
  {
   "cell_type": "markdown",
   "metadata": {},
   "source": [
    "## Chi-Square Test "
   ]
  },
  {
   "cell_type": "code",
   "execution_count": 19,
   "metadata": {},
   "outputs": [
    {
     "name": "stdout",
     "output_type": "stream",
     "text": [
      "Chi-Square Test p-value: 0.3440\n",
      "Fail to Reject Null Hypothesis: No strong evidence that category affects ratings\n"
     ]
    }
   ],
   "source": [
    "df[\"Rating_Category\"] = pd.cut(df[\"Rating\"], bins=[0, 3, 4, 5], labels=[\"Low\", \"Medium\", \"High\"])\n",
    "\n",
    "# Create contingency table\n",
    "contingency_table = pd.crosstab(df[\"Category\"], df[\"Rating_Category\"])\n",
    "\n",
    "# Perform Chi-Square Test\n",
    "chi2_stat, p_value, dof, expected = chi2_contingency(contingency_table)\n",
    "print(f\"Chi-Square Test p-value: {p_value:.4f}\")\n",
    "\n",
    "if p_value < 0.05:\n",
    "    print(\"Reject Null Hypothesis: Category affects rating distribution\")\n",
    "else:\n",
    "    print(\"Fail to Reject Null Hypothesis: No strong evidence that category affects ratings\")"
   ]
  },
  {
   "cell_type": "markdown",
   "metadata": {},
   "source": [
    "### ----------  ANOVA Test ----------"
   ]
  },
  {
   "cell_type": "code",
   "execution_count": 20,
   "metadata": {},
   "outputs": [
    {
     "name": "stdout",
     "output_type": "stream",
     "text": [
      "ANOVA Test p-value: 0.1961\n",
      "Fail to Reject Null Hypothesis: No significant difference in ratings across categories\n"
     ]
    }
   ],
   "source": [
    "categories = [df[df[\"Category\"] == cat][\"Rating\"] for cat in df[\"Category\"].unique()]\n",
    "anova_stat, p_value = f_oneway(*categories)\n",
    "\n",
    "print(f\"ANOVA Test p-value: {p_value:.4f}\")\n",
    "\n",
    "if p_value < 0.05:\n",
    "    print(\"Reject Null Hypothesis: Different product categories have significantly different average ratings\")\n",
    "else:\n",
    "    print(\"Fail to Reject Null Hypothesis: No significant difference in ratings across categories\")"
   ]
  },
  {
   "cell_type": "markdown",
   "metadata": {},
   "source": [
    "# Chi-Square Test (Categorical Analysis)\n",
    "\n",
    "## Checks if different categories have different rating distributions.\n",
    "\n",
    "### If p < 0.05, category affects rating.\n",
    "\n",
    "\n",
    "# ANOVA (Comparing Multiple Groups)\n",
    "\n",
    "## Compares average ratings across all categories.\n",
    "\n",
    "### If p < 0.05, categories have different ratings."
   ]
  }
 ],
 "metadata": {
  "kernelspec": {
   "display_name": "Python 3",
   "language": "python",
   "name": "python3"
  },
  "language_info": {
   "codemirror_mode": {
    "name": "ipython",
    "version": 3
   },
   "file_extension": ".py",
   "mimetype": "text/x-python",
   "name": "python",
   "nbconvert_exporter": "python",
   "pygments_lexer": "ipython3",
   "version": "3.12.9"
  }
 },
 "nbformat": 4,
 "nbformat_minor": 2
}
